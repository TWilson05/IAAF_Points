{
 "cells": [
  {
   "cell_type": "code",
   "execution_count": 2,
   "metadata": {},
   "outputs": [],
   "source": [
    "import numpy as np\n",
    "import json"
   ]
  },
  {
   "cell_type": "code",
   "execution_count": 3,
   "metadata": {},
   "outputs": [
    {
     "data": {
      "text/plain": [
       "dict_keys(['100m', '200m', '300m', '400m', '500m', '100mH', '400mH', '4x100m', '4x200m', '4x400m', '600m', '800m', '1000m', '1500m', 'Mile', '2000m', '2000mSC', '3000m', '3000mSC', '2 Miles', '5000m', '10,000m', '5km', '10km', '15km', '10 Miles', '20km', 'HM', '25km', '30km', 'Marathon', '100km', '3kmW', '5kmW', '10kmW', '15kmW', '20kmW', '30kmW', '35kmW', '50kmW', '3000mW', '5000mW', '10,000mW', '15,000mW', '20,000mW', '30,000mW', '35,000mW', '50,000mW', 'HJ', 'PV', 'LJ', 'TJ', 'SP', 'DT', 'HT', 'JT', 'Heptathlon'])"
      ]
     },
     "execution_count": 3,
     "metadata": {},
     "output_type": "execute_result"
    }
   ],
   "source": [
    "with open('points_table.json') as f:\n",
    "    points_table = json.load(f)\n",
    "\n",
    "def time_to_secs(time):\n",
    "    if time == '-':\n",
    "        return np.nan\n",
    "    denoms = time.split(':')\n",
    "    factors = 60 ** np.arange(len(denoms))[::-1]\n",
    "    return round(np.sum([float(denom) * factor for denom, factor in zip(denoms, factors)]),2)\n",
    "\n",
    "points_table['Women'].keys()"
   ]
  },
  {
   "cell_type": "code",
   "execution_count": 4,
   "metadata": {},
   "outputs": [],
   "source": [
    "# categorize events\n",
    "track_events = ['100m', '200m', '300m', '400m', '500m', '600m', '800m', '1000m', '1500m', 'Mile', '2000m', '3000m', '2 Miles', '5000m', '10,000m']\n",
    "road_events = ['5km', '10km', '15km', '10 Miles', '20km', 'HM', '25km', '30km', 'Marathon', '100km']\n",
    "hurdle_events = ['100mH', '110mH', '400mH', '2000mSC', '3000mSC']\n",
    "track_walk_events = ['3000mW', '5000mW', '10,000mW', '15,000mW', '20,000mW', '30,000mW', '35,000mW', '50,000mW']\n",
    "road_walk_events = ['3kmW', '5kmW', '10kmW', '15kmW', '20kmW', '30kmW', '35kmW', '50kmW']\n",
    "relay_events = ['4x100m', '4x200m', '4x400m']\n",
    "field_events = ['HJ', 'PV', 'LJ', 'TJ', 'SP', 'DT', 'HT', 'JT']\n",
    "combined_events = ['Heptathlon', 'Decathlon']\n",
    "\n",
    "# map distances to events\n",
    "mile_to_km = 1.60934\n",
    "marathon_to_km = 42.195\n",
    "distance_map = {'100m':0.1,\n",
    "                '200m':0.2, \n",
    "                '300m':0.3, \n",
    "                '400m':0.4, \n",
    "                '500m':0.5, \n",
    "                '600m':0.6, \n",
    "                '800m':0.8, \n",
    "                '1000m':1, \n",
    "                '1500m':1.5, \n",
    "                'Mile':mile_to_km, \n",
    "                '2000m':2, \n",
    "                '3000m':3, \n",
    "                '2 Miles':2*mile_to_km, \n",
    "                '5000m':5, \n",
    "                '10,000m':10,\n",
    "                '5km':5,\n",
    "                '10km':10,\n",
    "                '15km':15,\n",
    "                '10 Miles':10*mile_to_km,\n",
    "                '20km':20,\n",
    "                'HM':0.5*marathon_to_km,\n",
    "                '25km':25,\n",
    "                '30km':30,\n",
    "                'Marathon':marathon_to_km,\n",
    "                '100km':100,\n",
    "                '100mH':0.1,\n",
    "                '110mH':0.11,\n",
    "                '400mH':0.4,\n",
    "                '2000mSC':2,\n",
    "                '3000mSC':3,\n",
    "                '3000mW':3,\n",
    "                '5000mW':5,\n",
    "                '10,000mW':10,\n",
    "                '15,000mW':15,\n",
    "                '20,000mW':20,\n",
    "                '30,000mW':30,\n",
    "                '35,000mW':35,\n",
    "                '50,000mW':50,\n",
    "                '3kmW':3,\n",
    "                '5kmW':5,\n",
    "                '10kmW':10,\n",
    "                '15kmW':15,\n",
    "                '20kmW':20,\n",
    "                '30kmW':30,\n",
    "                '35kmW':35,\n",
    "                '50kmW':50,\n",
    "                '4x100m':0.4,\n",
    "                '4x200m':0.8,\n",
    "                '4x400m':1.6,\n",
    "                }\n",
    "\n",
    "restructured_points_table = {'Points':[int(x) for x in points_table['Points']], 'Men':{}, 'Women':{}}\n",
    "for gender in ['Men', 'Women']:\n",
    "    for category in ['Track', 'Road', 'Hurdle', 'Track_Walk', 'Road_Walk', 'Relay', 'Field', 'Combined']:\n",
    "        restructured_points_table[gender][category] = {}\n",
    "        for event in eval(category.lower() + '_events'):\n",
    "            if event in points_table[gender].keys():\n",
    "                restructured_points_table[gender][category][event] = {}\n",
    "                if category in ['Field', 'Combined']:\n",
    "                    restructured_points_table[gender][category][event]['Data'] = [np.nan if x == '-' else float(x) for x in points_table[gender][event]]\n",
    "                else:\n",
    "                    restructured_points_table[gender][category][event]['Data'] = [time_to_secs(x) for x in points_table[gender][event]]\n",
    "                    restructured_points_table[gender][category][event]['Distance'] = distance_map[event]\n",
    "                mask = [not np.isnan(x) for x in restructured_points_table[gender][category][event]['Data']]\n",
    "                filtered_data = np.array(restructured_points_table[gender][category][event]['Data'])[mask]\n",
    "                filtered_points = np.array(restructured_points_table['Points'])[mask]\n",
    "                fit_data = np.polyfit(filtered_data, filtered_points, 2)\n",
    "                restructured_points_table[gender][category][event]['Fit'] = fit_data"
   ]
  },
  {
   "cell_type": "markdown",
   "metadata": {},
   "source": [
    "Select data"
   ]
  },
  {
   "cell_type": "code",
   "execution_count": 5,
   "metadata": {},
   "outputs": [
    {
     "name": "stdout",
     "output_type": "stream",
     "text": [
      "957.9870741086816\n"
     ]
    }
   ],
   "source": [
    "# input data\n",
    "gender = 'Men'\n",
    "category = 'Track_Walk'\n",
    "event = '15,000mW'\n",
    "time = '1:07:24.03'\n",
    "\n",
    "# compute points\n",
    "seconds = time_to_secs(time)\n",
    "points = np.polyval(restructured_points_table[gender][category][event]['Fit'], seconds)\n",
    "print(points)"
   ]
  },
  {
   "cell_type": "markdown",
   "metadata": {},
   "source": [
    "Ideas of potential features:\n",
    "- Interpolate the running event data\n",
    "- Extrapolate and interpolate the walks data\n",
    "- Account for all weights in the throws by using a factor of $\\frac{1}{m}$\n",
    "- Automatically account for wind in the jumps and sprints\n",
    "- Account for the elevation in the road events\n",
    "- Account for hand timing\n",
    "- Explore relationship between relays and individual events\n",
    "- See what events are in the indoor list but not in the outdoor list"
   ]
  },
  {
   "cell_type": "code",
   "execution_count": 33,
   "metadata": {},
   "outputs": [
    {
     "data": {
      "image/png": "[encoded data removed]",
      "text/plain": [
       "<Figure size 640x480 with 1 Axes>"
      ]
     },
     "metadata": {},
     "output_type": "display_data"
    }
   ],
   "source": [
    "import matplotlib.pyplot as plt\n",
    "\n",
    "gender = 'Men'\n",
    "\n",
    "distance_data = []\n",
    "time_data = []\n",
    "for event in restructured_points_table[gender]['Track'].keys():\n",
    "    distance_data.append(restructured_points_table[gender]['Track'][event]['Distance'])\n",
    "    time_data.append(restructured_points_table[gender]['Track'][event]['Data'][-1])\n",
    "\n",
    "pace_data = [time_data[x]/distance_data[x] for x in range(len(time_data))]\n",
    "start = 0\n",
    "end = 15\n",
    "plt.scatter(distance_data[start:end], pace_data[start:end])\n",
    "plt.plot(distance_data[start:end], pace_data[start:end])\n",
    "plt.show()"
   ]
  }
 ],
 "metadata": {
  "kernelspec": {
   "display_name": "Python 3",
   "language": "python",
   "name": "python3"
  },
  "language_info": {
   "codemirror_mode": {
    "name": "ipython",
    "version": 3
   },
   "file_extension": ".py",
   "mimetype": "text/x-python",
   "name": "python",
   "nbconvert_exporter": "python",
   "pygments_lexer": "ipython3",
   "version": "3.10.11"
  }
 },
 "nbformat": 4,
 "nbformat_minor": 2
}
