{
 "cells": [
  {
   "cell_type": "code",
   "execution_count": 58,
   "metadata": {},
   "outputs": [],
   "source": [
    "import numpy as np\n",
    "import json"
   ]
  },
  {
   "cell_type": "code",
   "execution_count": 59,
   "metadata": {},
   "outputs": [
    {
     "data": {
      "text/plain": [
       "dict_keys(['100m', '200m', '300m', '400m', '500m', '100mH', '400mH', '4x100m', '4x200m', '4x400m', '600m', '800m', '1000m', '1500m', 'Mile', '2000m', '2000mSC', '3000m', '3000mSC', '2 Miles', '5000m', '10,000m', '5km', '10km', '15km', '10 Miles', '20km', 'HM', '25km', '30km', 'Marathon', '100km', '3kmW', '5kmW', '10kmW', '15kmW', '20kmW', '30kmW', '35kmW', '50kmW', '3000mW', '5000mW', '10,000mW', '15,000mW', '20,000mW', '30,000mW', '35,000mW', '50,000mW', 'HJ', 'PV', 'LJ', 'TJ', 'SP', 'DT', 'HT', 'JT', 'Heptathlon'])"
      ]
     },
     "execution_count": 59,
     "metadata": {},
     "output_type": "execute_result"
    }
   ],
   "source": [
    "with open('points_table.json') as f:\n",
    "    points_table = json.load(f)\n",
    "\n",
    "def time_to_secs(time):\n",
    "    if time == '-':\n",
    "        return np.nan\n",
    "    denoms = time.split(':')\n",
    "    factors = 60 ** np.arange(len(denoms))[::-1]\n",
    "    return round(np.sum([float(denom) * factor for denom, factor in zip(denoms, factors)]),2)\n",
    "\n",
    "points_table['Women'].keys()"
   ]
  },
  {
   "cell_type": "code",
   "execution_count": 60,
   "metadata": {},
   "outputs": [
    {
     "name": "stderr",
     "output_type": "stream",
     "text": [
      "C:\\Users\\tbwil\\AppData\\Local\\Temp\\ipykernel_13980\\2362984661.py:81: RuntimeWarning: invalid value encountered in sqrt\n",
      "  inv_fit = (-fit_data[1]+np.sqrt(fit_data[1]**2-4*fit_data[0]*fit_data[2]))/(2*fit_data[0])\n"
     ]
    }
   ],
   "source": [
    "# categorize events\n",
    "track_events = ['100m', '200m', '300m', '400m', '500m', '600m', '800m', '1000m', '1500m', 'Mile', '2000m', '3000m', '2 Miles', '5000m', '10,000m']\n",
    "road_events = ['5km', '10km', '15km', '10 Miles', '20km', 'HM', '25km', '30km', 'Marathon', '100km']\n",
    "hurdle_events = ['100mH', '110mH', '400mH', '2000mSC', '3000mSC']\n",
    "track_walk_events = ['3000mW', '5000mW', '10,000mW', '15,000mW', '20,000mW', '30,000mW', '35,000mW', '50,000mW']\n",
    "road_walk_events = ['3kmW', '5kmW', '10kmW', '15kmW', '20kmW', '30kmW', '35kmW', '50kmW']\n",
    "relay_events = ['4x100m', '4x200m', '4x400m']\n",
    "field_events = ['HJ', 'PV', 'LJ', 'TJ', 'SP', 'DT', 'HT', 'JT']\n",
    "combined_events = ['Heptathlon', 'Decathlon']\n",
    "\n",
    "# map distances to events\n",
    "mile_to_km = 1.60934\n",
    "marathon_to_km = 42.195\n",
    "distance_map = {'100m':0.1,\n",
    "                '200m':0.2, \n",
    "                '300m':0.3, \n",
    "                '400m':0.4, \n",
    "                '500m':0.5, \n",
    "                '600m':0.6, \n",
    "                '800m':0.8, \n",
    "                '1000m':1, \n",
    "                '1500m':1.5, \n",
    "                'Mile':mile_to_km, \n",
    "                '2000m':2, \n",
    "                '3000m':3, \n",
    "                '2 Miles':2*mile_to_km, \n",
    "                '5000m':5, \n",
    "                '10,000m':10,\n",
    "                '5km':5,\n",
    "                '10km':10,\n",
    "                '15km':15,\n",
    "                '10 Miles':10*mile_to_km,\n",
    "                '20km':20,\n",
    "                'HM':0.5*marathon_to_km,\n",
    "                '25km':25,\n",
    "                '30km':30,\n",
    "                'Marathon':marathon_to_km,\n",
    "                '100km':100,\n",
    "                '100mH':0.1,\n",
    "                '110mH':0.11,\n",
    "                '400mH':0.4,\n",
    "                '2000mSC':2,\n",
    "                '3000mSC':3,\n",
    "                '3000mW':3,\n",
    "                '5000mW':5,\n",
    "                '10,000mW':10,\n",
    "                '15,000mW':15,\n",
    "                '20,000mW':20,\n",
    "                '30,000mW':30,\n",
    "                '35,000mW':35,\n",
    "                '50,000mW':50,\n",
    "                '3kmW':3,\n",
    "                '5kmW':5,\n",
    "                '10kmW':10,\n",
    "                '15kmW':15,\n",
    "                '20kmW':20,\n",
    "                '30kmW':30,\n",
    "                '35kmW':35,\n",
    "                '50kmW':50,\n",
    "                '4x100m':0.4,\n",
    "                '4x200m':0.8,\n",
    "                '4x400m':1.6,\n",
    "                }\n",
    "\n",
    "restructured_points_table = {'Points':[int(x) for x in points_table['Points']], 'Men':{}, 'Women':{}}\n",
    "for gender in ['Men', 'Women']:\n",
    "    for category in ['Track', 'Road', 'Hurdle', 'Track_Walk', 'Road_Walk', 'Relay', 'Field', 'Combined']:\n",
    "        restructured_points_table[gender][category] = {}\n",
    "        for event in eval(category.lower() + '_events'):\n",
    "            if event in points_table[gender].keys():\n",
    "                restructured_points_table[gender][category][event] = {}\n",
    "                if category in ['Field', 'Combined']:\n",
    "                    restructured_points_table[gender][category][event]['Data'] = [np.nan if x == '-' else float(x) for x in points_table[gender][event]]\n",
    "                else:\n",
    "                    restructured_points_table[gender][category][event]['Data'] = [time_to_secs(x)-0.005 for x in points_table[gender][event]]\n",
    "                    restructured_points_table[gender][category][event]['Distance'] = distance_map[event]\n",
    "                mask = [not np.isnan(x) for x in restructured_points_table[gender][category][event]['Data']]\n",
    "                filtered_data = np.array(restructured_points_table[gender][category][event]['Data'])[mask]\n",
    "                filtered_points = np.array(restructured_points_table['Points'])[mask]\n",
    "                fit_data = np.polyfit(filtered_data, filtered_points, 2)\n",
    "                inv_fit = (-fit_data[1]+np.sqrt(fit_data[1]**2-4*fit_data[0]*fit_data[2]))/(2*fit_data[0])\n",
    "                restructured_points_table[gender][category][event]['Fit'] = fit_data\n",
    "                restructured_points_table[gender][category][event]['Inv_Fit'] = inv_fit"
   ]
  },
  {
   "cell_type": "markdown",
   "metadata": {},
   "source": [
    "Select data"
   ]
  },
  {
   "cell_type": "code",
   "execution_count": 61,
   "metadata": {},
   "outputs": [
    {
     "name": "stdout",
     "output_type": "stream",
     "text": [
      "926\n"
     ]
    }
   ],
   "source": [
    "# input data\n",
    "gender = 'Men'\n",
    "category = 'Track_Walk'\n",
    "event = '15,000mW'\n",
    "time = '1:08:35.68'\n",
    "\n",
    "# compute points\n",
    "seconds = time_to_secs(time)\n",
    "points = np.polyval(restructured_points_table[gender][category][event]['Fit'], seconds)\n",
    "print(int(points))"
   ]
  },
  {
   "cell_type": "code",
   "execution_count": 62,
   "metadata": {},
   "outputs": [
    {
     "name": "stdout",
     "output_type": "stream",
     "text": [
      "359\n"
     ]
    }
   ],
   "source": [
    "# input data\n",
    "gender = 'Men'\n",
    "category = 'Road'\n",
    "event = '5km'\n",
    "time = '18:00'\n",
    "\n",
    "# compute points\n",
    "seconds = time_to_secs(time)\n",
    "points = np.polyval(restructured_points_table[gender][category][event]['Fit'], seconds)\n",
    "print(int(points))"
   ]
  },
  {
   "cell_type": "code",
   "execution_count": 63,
   "metadata": {},
   "outputs": [
    {
     "name": "stdout",
     "output_type": "stream",
     "text": [
      "954\n"
     ]
    }
   ],
   "source": [
    "# input data\n",
    "gender = 'Men'\n",
    "category = 'Track'\n",
    "event = '10,000m'\n",
    "time = '30:00'\n",
    "\n",
    "# compute points\n",
    "seconds = time_to_secs(time)\n",
    "points = np.polyval(restructured_points_table[gender][category][event]['Fit'], seconds)\n",
    "print(int(points))"
   ]
  },
  {
   "cell_type": "code",
   "execution_count": 64,
   "metadata": {},
   "outputs": [
    {
     "name": "stdout",
     "output_type": "stream",
     "text": [
      "138\n"
     ]
    }
   ],
   "source": [
    "# input data\n",
    "gender = 'Women'\n",
    "category = 'Road'\n",
    "event = '10km'\n",
    "time = '1:00:00'\n",
    "\n",
    "# compute points\n",
    "seconds = time_to_secs(time)\n",
    "points = np.polyval(restructured_points_table[gender][category][event]['Fit'], seconds)\n",
    "print(int(points))"
   ]
  },
  {
   "cell_type": "markdown",
   "metadata": {},
   "source": [
    "Ideas of potential features:\n",
    "- Interpolate the running event data\n",
    "- Extrapolate and interpolate the walks data\n",
    "- Account for all weights in the throws by using a factor of $\\frac{1}{m}$\n",
    "- Automatically account for wind in the jumps and sprints\n",
    "- Account for the elevation in the road events\n",
    "- Account for hand timing\n",
    "- Explore relationship between relays and individual events\n",
    "- See what events are in the indoor list but not in the outdoor list\n",
    "- Look at JD or youth/junior multi-event scores to get an idea how the different weights or hurdle heights compare"
   ]
  },
  {
   "cell_type": "code",
   "execution_count": 65,
   "metadata": {},
   "outputs": [
    {
     "data": {
      "image/png": "[encoded data removed]",
      "text/plain": [
       "<Figure size 640x480 with 1 Axes>"
      ]
     },
     "metadata": {},
     "output_type": "display_data"
    }
   ],
   "source": [
    "import matplotlib.pyplot as plt\n",
    "import scipy.interpolate as spi\n",
    "\n",
    "gender = 'Men'\n",
    "distance = 1.2\n",
    "\n",
    "# for p in restructured_points_table['Points']:\n",
    "distance_data = []\n",
    "time_data = []\n",
    "for event in restructured_points_table[gender]['Track'].keys():\n",
    "    if not np.isnan(restructured_points_table[gender]['Track'][event]['Data'][-1]):\n",
    "        distance_data.append(restructured_points_table[gender]['Track'][event]['Distance'])\n",
    "        time_data.append(restructured_points_table[gender]['Track'][event]['Data'][-1])\n",
    "\n",
    "pace_data = [time_data[x]/distance_data[x] for x in range(len(time_data))]\n",
    "cs_fit = spi.CubicSpline(distance_data, pace_data)\n",
    "\n",
    "start = 0\n",
    "end = 15\n",
    "span = np.linspace(distance_data[start], distance_data[end-1], 100)\n",
    "plt.scatter(distance_data[start:end], pace_data[start:end])\n",
    "plt.plot(distance_data[start:end], pace_data[start:end])\n",
    "plt.plot(span, cs_fit(span))\n",
    "plt.show()"
   ]
  },
  {
   "cell_type": "code",
   "execution_count": 66,
   "metadata": {},
   "outputs": [
    {
     "name": "stdout",
     "output_type": "stream",
     "text": [
      "368\n"
     ]
    }
   ],
   "source": [
    "import matplotlib.pyplot as plt\n",
    "import scipy.interpolate as spi\n",
    "\n",
    "gender = 'Men'\n",
    "surface = 'Track'\n",
    "distance = 8\n",
    "time = '29:51.8'\n",
    "\n",
    "interp_points = []\n",
    "for point in range(1400):\n",
    "    distance_data = []\n",
    "    time_data = []\n",
    "    for event in restructured_points_table[gender][surface].keys():\n",
    "        if not np.isnan(restructured_points_table[gender][surface][event]['Data'][point]):\n",
    "            distance_data.append(restructured_points_table[gender][surface][event]['Distance'])\n",
    "            time_data.append(restructured_points_table[gender][surface][event]['Data'][point])\n",
    "    cs_fit = spi.CubicSpline(distance_data, time_data)\n",
    "    interp_points.append(cs_fit(distance))\n",
    "quad_fit = np.polyfit(interp_points, range(1,1401)[::-1], 2)\n",
    "seconds = time_to_secs(time)\n",
    "score = np.polyval(quad_fit, seconds)\n",
    "print(int(score))"
   ]
  },
  {
   "cell_type": "code",
   "execution_count": 67,
   "metadata": {},
   "outputs": [
    {
     "name": "stdout",
     "output_type": "stream",
     "text": [
      "50\n"
     ]
    }
   ],
   "source": [
    "# Testing how well it works\n",
    "import scipy.interpolate as spi\n",
    "\n",
    "gender = 'Women'\n",
    "surface = 'Track'\n",
    "distance = 3.8\n",
    "time = '22:50.38'\n",
    "\n",
    "interp_points = []\n",
    "for point in range(1400):\n",
    "    distance_data = []\n",
    "    time_data = []\n",
    "    for event in restructured_points_table[gender][surface].keys():\n",
    "        if not np.isnan(restructured_points_table[gender][surface][event]['Data'][point]):\n",
    "            distance_data.append(restructured_points_table[gender][surface][event]['Distance'])\n",
    "            time_data.append(restructured_points_table[gender][surface][event]['Data'][point])\n",
    "    cs_fit = spi.CubicSpline(distance_data, time_data)\n",
    "    interp_points.append(cs_fit(distance))\n",
    "quad_fit = np.polyfit(interp_points, range(1,1401)[::-1], 2)\n",
    "seconds = time_to_secs(time)\n",
    "score = np.polyval(quad_fit, seconds)\n",
    "print(int(score))"
   ]
  },
  {
   "cell_type": "markdown",
   "metadata": {},
   "source": []
  },
  {
   "cell_type": "code",
   "execution_count": 68,
   "metadata": {},
   "outputs": [
    {
     "ename": "TypeError",
     "evalue": "iteration over a 0-d array",
     "output_type": "error",
     "traceback": [
      "\u001b[1;31m---------------------------------------------------------------------------\u001b[0m",
      "\u001b[1;31mTypeError\u001b[0m                                 Traceback (most recent call last)",
      "Cell \u001b[1;32mIn [68], line 16\u001b[0m\n\u001b[0;32m     14\u001b[0m event_dist \u001b[38;5;241m=\u001b[39m restructured_points_table[gender][\u001b[38;5;124m'\u001b[39m\u001b[38;5;124mTrack\u001b[39m\u001b[38;5;124m'\u001b[39m][event][\u001b[38;5;124m'\u001b[39m\u001b[38;5;124mDistance\u001b[39m\u001b[38;5;124m'\u001b[39m]\n\u001b[0;32m     15\u001b[0m event_time \u001b[38;5;241m=\u001b[39m restructured_points_table[gender][\u001b[38;5;124m'\u001b[39m\u001b[38;5;124mTrack\u001b[39m\u001b[38;5;124m'\u001b[39m][event][\u001b[38;5;124m'\u001b[39m\u001b[38;5;124mData\u001b[39m\u001b[38;5;124m'\u001b[39m][point]\n\u001b[1;32m---> 16\u001b[0m road_time5 \u001b[38;5;241m=\u001b[39m \u001b[43mnp\u001b[49m\u001b[38;5;241;43m.\u001b[39;49m\u001b[43mpolyval\u001b[49m\u001b[43m(\u001b[49m\u001b[43mrestructured_points_table\u001b[49m\u001b[43m[\u001b[49m\u001b[43mgender\u001b[49m\u001b[43m]\u001b[49m\u001b[43m[\u001b[49m\u001b[38;5;124;43m'\u001b[39;49m\u001b[38;5;124;43mRoad\u001b[39;49m\u001b[38;5;124;43m'\u001b[39;49m\u001b[43m]\u001b[49m\u001b[43m[\u001b[49m\u001b[38;5;124;43m'\u001b[39;49m\u001b[38;5;124;43m5km\u001b[39;49m\u001b[38;5;124;43m'\u001b[39;49m\u001b[43m]\u001b[49m\u001b[43m[\u001b[49m\u001b[38;5;124;43m'\u001b[39;49m\u001b[38;5;124;43mInv_Fit\u001b[39;49m\u001b[38;5;124;43m'\u001b[39;49m\u001b[43m]\u001b[49m\u001b[43m,\u001b[49m\u001b[43m \u001b[49m\u001b[38;5;241;43m1400\u001b[39;49m\u001b[38;5;241;43m-\u001b[39;49m\u001b[43mpoint\u001b[49m\u001b[43m)\u001b[49m\n\u001b[0;32m     17\u001b[0m road_time10 \u001b[38;5;241m=\u001b[39m np\u001b[38;5;241m.\u001b[39mpolyval(restructured_points_table[gender][\u001b[38;5;124m'\u001b[39m\u001b[38;5;124mRoad\u001b[39m\u001b[38;5;124m'\u001b[39m][\u001b[38;5;124m'\u001b[39m\u001b[38;5;124m10km\u001b[39m\u001b[38;5;124m'\u001b[39m][\u001b[38;5;124m'\u001b[39m\u001b[38;5;124mInv_Fit\u001b[39m\u001b[38;5;124m'\u001b[39m], \u001b[38;5;241m1400\u001b[39m\u001b[38;5;241m-\u001b[39mpoint)\n\u001b[0;32m     18\u001b[0m road_ratio5 \u001b[38;5;241m=\u001b[39m road_time5\u001b[38;5;241m/\u001b[39mrestructured_points_table[gender][\u001b[38;5;124m'\u001b[39m\u001b[38;5;124mTrack\u001b[39m\u001b[38;5;124m'\u001b[39m][\u001b[38;5;124m'\u001b[39m\u001b[38;5;124m5000m\u001b[39m\u001b[38;5;124m'\u001b[39m][\u001b[38;5;124m'\u001b[39m\u001b[38;5;124mData\u001b[39m\u001b[38;5;124m'\u001b[39m][point]\n",
      "File \u001b[1;32m<__array_function__ internals>:180\u001b[0m, in \u001b[0;36mpolyval\u001b[1;34m(*args, **kwargs)\u001b[0m\n",
      "File \u001b[1;32m~\\AppData\\Local\\Packages\\PythonSoftwareFoundation.Python.3.10_qbz5n2kfra8p0\\LocalCache\\local-packages\\Python310\\site-packages\\numpy\\lib\\polynomial.py:778\u001b[0m, in \u001b[0;36mpolyval\u001b[1;34m(p, x)\u001b[0m\n\u001b[0;32m    776\u001b[0m     x \u001b[38;5;241m=\u001b[39m NX\u001b[38;5;241m.\u001b[39masanyarray(x)\n\u001b[0;32m    777\u001b[0m     y \u001b[38;5;241m=\u001b[39m NX\u001b[38;5;241m.\u001b[39mzeros_like(x)\n\u001b[1;32m--> 778\u001b[0m \u001b[38;5;28;01mfor\u001b[39;00m pv \u001b[38;5;129;01min\u001b[39;00m p:\n\u001b[0;32m    779\u001b[0m     y \u001b[38;5;241m=\u001b[39m y \u001b[38;5;241m*\u001b[39m x \u001b[38;5;241m+\u001b[39m pv\n\u001b[0;32m    780\u001b[0m \u001b[38;5;28;01mreturn\u001b[39;00m y\n",
      "\u001b[1;31mTypeError\u001b[0m: iteration over a 0-d array"
     ]
    }
   ],
   "source": [
    "import matplotlib.pyplot as plt\n",
    "import scipy.interpolate as spi\n",
    "\n",
    "gender = 'Men'\n",
    "distance = 5\n",
    "time = '15:00'\n",
    "\n",
    "interp_points = []\n",
    "for point in range(1400):\n",
    "    distance_data = []\n",
    "    time_data = []\n",
    "    for event in restructured_points_table[gender]['Track'].keys():\n",
    "        if not np.isnan(restructured_points_table[gender]['Track'][event]['Data'][point]):\n",
    "            event_dist = restructured_points_table[gender]['Track'][event]['Distance']\n",
    "            event_time = restructured_points_table[gender]['Track'][event]['Data'][point]\n",
    "            road_time5 = np.polyval(restructured_points_table[gender]['Road']['5km']['Inv_Fit'], 1400-point)\n",
    "            road_time10 = np.polyval(restructured_points_table[gender]['Road']['10km']['Inv_Fit'], 1400-point)\n",
    "            road_ratio5 = road_time5/restructured_points_table[gender]['Track']['5000m']['Data'][point]\n",
    "            road_ratio10 = road_time10/restructured_points_table[gender]['Track']['10,000m']['Data'][point]\n",
    "            ratio_fit = np.polyfit([5,10], [road_ratio5, road_ratio10], 1)\n",
    "            event_road_ratio = np.polyval(ratio_fit, event_dist)\n",
    "            distance_data.append(event_dist)\n",
    "            time_data.append(event_time*event_road_ratio)\n",
    "    cs_fit = spi.CubicSpline(distance_data, time_data)\n",
    "    interp_points.append(cs_fit(distance))\n",
    "quad_fit = np.polyfit(interp_points, range(1,1401)[::-1], 2)\n",
    "seconds = time_to_secs(time)\n",
    "score = np.polyval(quad_fit, seconds)\n",
    "print(int(score))"
   ]
  },
  {
   "cell_type": "code",
   "execution_count": 69,
   "metadata": {},
   "outputs": [
    {
     "ename": "TypeError",
     "evalue": "iteration over a 0-d array",
     "output_type": "error",
     "traceback": [
      "\u001b[1;31m---------------------------------------------------------------------------\u001b[0m",
      "\u001b[1;31mTypeError\u001b[0m                                 Traceback (most recent call last)",
      "Cell \u001b[1;32mIn [69], line 15\u001b[0m\n\u001b[0;32m     13\u001b[0m event_dist \u001b[38;5;241m=\u001b[39m restructured_points_table[gender][\u001b[38;5;124m'\u001b[39m\u001b[38;5;124mTrack\u001b[39m\u001b[38;5;124m'\u001b[39m][event][\u001b[38;5;124m'\u001b[39m\u001b[38;5;124mDistance\u001b[39m\u001b[38;5;124m'\u001b[39m]\n\u001b[0;32m     14\u001b[0m event_time \u001b[38;5;241m=\u001b[39m restructured_points_table[gender][\u001b[38;5;124m'\u001b[39m\u001b[38;5;124mTrack\u001b[39m\u001b[38;5;124m'\u001b[39m][event][\u001b[38;5;124m'\u001b[39m\u001b[38;5;124mData\u001b[39m\u001b[38;5;124m'\u001b[39m][point]\n\u001b[1;32m---> 15\u001b[0m road_time5 \u001b[38;5;241m=\u001b[39m \u001b[43mnp\u001b[49m\u001b[38;5;241;43m.\u001b[39;49m\u001b[43mpolyval\u001b[49m\u001b[43m(\u001b[49m\u001b[43mrestructured_points_table\u001b[49m\u001b[43m[\u001b[49m\u001b[43mgender\u001b[49m\u001b[43m]\u001b[49m\u001b[43m[\u001b[49m\u001b[38;5;124;43m'\u001b[39;49m\u001b[38;5;124;43mRoad\u001b[39;49m\u001b[38;5;124;43m'\u001b[39;49m\u001b[43m]\u001b[49m\u001b[43m[\u001b[49m\u001b[38;5;124;43m'\u001b[39;49m\u001b[38;5;124;43m5km\u001b[39;49m\u001b[38;5;124;43m'\u001b[39;49m\u001b[43m]\u001b[49m\u001b[43m[\u001b[49m\u001b[38;5;124;43m'\u001b[39;49m\u001b[38;5;124;43mInv_Fit\u001b[39;49m\u001b[38;5;124;43m'\u001b[39;49m\u001b[43m]\u001b[49m\u001b[43m,\u001b[49m\u001b[43m \u001b[49m\u001b[38;5;241;43m1400\u001b[39;49m\u001b[38;5;241;43m-\u001b[39;49m\u001b[43mpoint\u001b[49m\u001b[43m)\u001b[49m\n\u001b[0;32m     16\u001b[0m road_time10 \u001b[38;5;241m=\u001b[39m np\u001b[38;5;241m.\u001b[39mpolyval(restructured_points_table[gender][\u001b[38;5;124m'\u001b[39m\u001b[38;5;124mRoad\u001b[39m\u001b[38;5;124m'\u001b[39m][\u001b[38;5;124m'\u001b[39m\u001b[38;5;124m10km\u001b[39m\u001b[38;5;124m'\u001b[39m][\u001b[38;5;124m'\u001b[39m\u001b[38;5;124mInv_Fit\u001b[39m\u001b[38;5;124m'\u001b[39m], \u001b[38;5;241m1400\u001b[39m\u001b[38;5;241m-\u001b[39mpoint)\n\u001b[0;32m     17\u001b[0m road_ratio5 \u001b[38;5;241m=\u001b[39m road_time5\u001b[38;5;241m/\u001b[39mrestructured_points_table[gender][\u001b[38;5;124m'\u001b[39m\u001b[38;5;124mTrack\u001b[39m\u001b[38;5;124m'\u001b[39m][\u001b[38;5;124m'\u001b[39m\u001b[38;5;124m5000m\u001b[39m\u001b[38;5;124m'\u001b[39m][\u001b[38;5;124m'\u001b[39m\u001b[38;5;124mData\u001b[39m\u001b[38;5;124m'\u001b[39m][point]\n",
      "File \u001b[1;32m<__array_function__ internals>:180\u001b[0m, in \u001b[0;36mpolyval\u001b[1;34m(*args, **kwargs)\u001b[0m\n",
      "File \u001b[1;32m~\\AppData\\Local\\Packages\\PythonSoftwareFoundation.Python.3.10_qbz5n2kfra8p0\\LocalCache\\local-packages\\Python310\\site-packages\\numpy\\lib\\polynomial.py:778\u001b[0m, in \u001b[0;36mpolyval\u001b[1;34m(p, x)\u001b[0m\n\u001b[0;32m    776\u001b[0m     x \u001b[38;5;241m=\u001b[39m NX\u001b[38;5;241m.\u001b[39masanyarray(x)\n\u001b[0;32m    777\u001b[0m     y \u001b[38;5;241m=\u001b[39m NX\u001b[38;5;241m.\u001b[39mzeros_like(x)\n\u001b[1;32m--> 778\u001b[0m \u001b[38;5;28;01mfor\u001b[39;00m pv \u001b[38;5;129;01min\u001b[39;00m p:\n\u001b[0;32m    779\u001b[0m     y \u001b[38;5;241m=\u001b[39m y \u001b[38;5;241m*\u001b[39m x \u001b[38;5;241m+\u001b[39m pv\n\u001b[0;32m    780\u001b[0m \u001b[38;5;28;01mreturn\u001b[39;00m y\n",
      "\u001b[1;31mTypeError\u001b[0m: iteration over a 0-d array"
     ]
    }
   ],
   "source": [
    "import scipy.interpolate as spi\n",
    "\n",
    "gender = 'Women'\n",
    "distance = 10\n",
    "time = '1:02:56'\n",
    "\n",
    "interp_points = []\n",
    "for point in range(1400):\n",
    "    distance_data = []\n",
    "    time_data = []\n",
    "    for event in restructured_points_table[gender]['Track'].keys():\n",
    "        if not np.isnan(restructured_points_table[gender]['Track'][event]['Data'][point]):\n",
    "            event_dist = restructured_points_table[gender]['Track'][event]['Distance']\n",
    "            event_time = restructured_points_table[gender]['Track'][event]['Data'][point]\n",
    "            road_time5 = np.polyval(restructured_points_table[gender]['Road']['5km']['Inv_Fit'], 1400-point)\n",
    "            road_time10 = np.polyval(restructured_points_table[gender]['Road']['10km']['Inv_Fit'], 1400-point)\n",
    "            road_ratio5 = road_time5/restructured_points_table[gender]['Track']['5000m']['Data'][point]\n",
    "            road_ratio10 = road_time10/restructured_points_table[gender]['Track']['10,000m']['Data'][point]\n",
    "            ratio_fit = np.polyfit([5,10], [road_ratio5, road_ratio10], 1)\n",
    "            event_road_ratio = np.polyval(ratio_fit, event_dist)\n",
    "            distance_data.append(event_dist)\n",
    "            time_data.append(event_time*event_road_ratio)\n",
    "    cs_fit = spi.CubicSpline(distance_data, time_data)\n",
    "    interp_points.append(cs_fit(distance))\n",
    "quad_fit = np.polyfit(interp_points, range(1,1401)[::-1], 2)\n",
    "seconds = time_to_secs(time)\n",
    "score = np.polyval(quad_fit, seconds)\n",
    "print(int(score))"
   ]
  },
  {
   "cell_type": "markdown",
   "metadata": {},
   "source": [
    "Interpolate Racewalk"
   ]
  },
  {
   "cell_type": "code",
   "execution_count": 79,
   "metadata": {},
   "outputs": [],
   "source": [
    "gender = \"Men\"\n",
    "point = 957\n",
    "\n",
    "distances = []\n",
    "max_times = []\n",
    "null_times = []\n",
    "for event in restructured_points_table[gender][\"Track_Walk\"].keys():\n",
    "    fits = restructured_points_table[gender][\"Track_Walk\"][event][\"Fit\"]\n",
    "    max_times.append(-fits[1]/(2*fits[0]) - np.sqrt(fits[1]**2-4*fits[0]*(fits[2]-1400))/(2*fits[0]))\n",
    "    null_times.append(-fits[1]/(2*fits[0]))\n",
    "    distances.append(restructured_points_table[gender][\"Track_Walk\"][event][\"Distance\"])"
   ]
  },
  {
   "cell_type": "code",
   "execution_count": 80,
   "metadata": {},
   "outputs": [
    {
     "data": {
      "text/plain": [
       "([1604.9907021016047,\n",
       "  2699.9905843690644,\n",
       "  5549.989930688294,\n",
       "  8429.990131773067,\n",
       "  11399.989876310783,\n",
       "  19109.990729579462,\n",
       "  22799.990650548167,\n",
       "  37199.99011271565],\n",
       " [3, 5, 10, 15, 20, 30, 35, 50])"
      ]
     },
     "execution_count": 80,
     "metadata": {},
     "output_type": "execute_result"
    }
   ],
   "source": [
    "null_times, distances"
   ]
  },
  {
   "cell_type": "code",
   "execution_count": 91,
   "metadata": {},
   "outputs": [
    {
     "data": {
      "text/plain": [
       "[<matplotlib.lines.Line2D at 0x1fbcc452d40>]"
      ]
     },
     "execution_count": 91,
     "metadata": {},
     "output_type": "execute_result"
    },
    {
     "data": {
      "image/png": "[encoded data removed]",
      "text/plain": [
       "<Figure size 640x480 with 1 Axes>"
      ]
     },
     "metadata": {},
     "output_type": "display_data"
    }
   ],
   "source": [
    "v_null = np.array(distances) / np.array(null_times) * 1000\n",
    "v_max = np.array(distances) / np.array(max_times) * 1000\n",
    "\n",
    "plt.plot(distances, v_null)"
   ]
  },
  {
   "cell_type": "code",
   "execution_count": 137,
   "metadata": {},
   "outputs": [
    {
     "name": "stdout",
     "output_type": "stream",
     "text": [
      "[ 0.49039192  0.02637196 -0.47875391  4.78184372]\n"
     ]
    },
    {
     "name": "stderr",
     "output_type": "stream",
     "text": [
      "C:\\Users\\tbwil\\AppData\\Local\\Packages\\PythonSoftwareFoundation.Python.3.10_qbz5n2kfra8p0\\LocalCache\\local-packages\\Python310\\site-packages\\scipy\\optimize\\_minpack_py.py:881: OptimizeWarning: Covariance of the parameters could not be estimated\n",
      "  warnings.warn('Covariance of the parameters could not be estimated',\n"
     ]
    },
    {
     "data": {
      "image/png": "[encoded data removed]",
      "text/plain": [
       "<Figure size 640x480 with 1 Axes>"
      ]
     },
     "metadata": {},
     "output_type": "display_data"
    }
   ],
   "source": [
    "import scipy.optimize as spo\n",
    "n_points = 4\n",
    "\n",
    "def f(x, a, b, c, d):\n",
    "    return a/(1+b*np.exp(-c*x)) + d\n",
    "\n",
    "popt_max, pcov = spo.curve_fit(f, distances[:n_points], v_max[:n_points], p0=[1, 0.1, 0.1, 5])\n",
    "\n",
    "print(popt_max)\n",
    "\n",
    "plt.plot(distances[:n_points], v_max[:n_points])\n",
    "plt.plot(distances[:n_points], f(np.array(distances[:n_points]), *popt_max))\n",
    "plt.show()"
   ]
  },
  {
   "cell_type": "code",
   "execution_count": 139,
   "metadata": {},
   "outputs": [
    {
     "name": "stdout",
     "output_type": "stream",
     "text": [
      "[ 0.12122213  0.09117314 -0.35840132  1.77350764]\n"
     ]
    },
    {
     "name": "stderr",
     "output_type": "stream",
     "text": [
      "C:\\Users\\tbwil\\AppData\\Local\\Packages\\PythonSoftwareFoundation.Python.3.10_qbz5n2kfra8p0\\LocalCache\\local-packages\\Python310\\site-packages\\scipy\\optimize\\_minpack_py.py:881: OptimizeWarning: Covariance of the parameters could not be estimated\n",
      "  warnings.warn('Covariance of the parameters could not be estimated',\n"
     ]
    },
    {
     "data": {
      "image/png": "[encoded data removed]",
      "text/plain": [
       "<Figure size 640x480 with 1 Axes>"
      ]
     },
     "metadata": {},
     "output_type": "display_data"
    }
   ],
   "source": [
    "popt_null, pcov = spo.curve_fit(f, distances[:n_points], v_null[:n_points], p0=[1, 0.1, 0.1, 5])\n",
    "\n",
    "print(popt_null)\n",
    "\n",
    "plt.plot(distances[:n_points], v_null[:n_points])\n",
    "plt.plot(distances[:n_points], f(np.array(distances[:n_points]), *popt_null))\n",
    "plt.show()"
   ]
  },
  {
   "cell_type": "code",
   "execution_count": 140,
   "metadata": {},
   "outputs": [
    {
     "data": {
      "image/png": "[encoded data removed]",
      "text/plain": [
       "<Figure size 640x480 with 1 Axes>"
      ]
     },
     "metadata": {},
     "output_type": "display_data"
    }
   ],
   "source": [
    "dists = np.linspace(1, 20, 100)\n",
    "\n",
    "plt.plot(dists, f(dists, *popt_max))\n",
    "plt.show()"
   ]
  },
  {
   "cell_type": "code",
   "execution_count": 147,
   "metadata": {},
   "outputs": [
    {
     "name": "stdout",
     "output_type": "stream",
     "text": [
      "897\n"
     ]
    }
   ],
   "source": [
    "dist = 3\n",
    "time = \"13:00\"\n",
    "\n",
    "v_max_d = f(dist, *popt_max)\n",
    "v_null_d = f(dist, *popt_null)\n",
    "\n",
    "t_max = dist / v_max_d * 1000\n",
    "t_null = dist / v_null_d * 1000\n",
    "a_val = 1400 / (t_null - t_max)**2\n",
    "\n",
    "time_s = time_to_secs(time)\n",
    "points = a_val * (time_s - t_null)**2\n",
    "print(int(points))"
   ]
  }
 ],
 "metadata": {
  "kernelspec": {
   "display_name": "Python 3",
   "language": "python",
   "name": "python3"
  },
  "language_info": {
   "codemirror_mode": {
    "name": "ipython",
    "version": 3
   },
   "file_extension": ".py",
   "mimetype": "text/x-python",
   "name": "python",
   "nbconvert_exporter": "python",
   "pygments_lexer": "ipython3",
   "version": "3.10.11"
  }
 },
 "nbformat": 4,
 "nbformat_minor": 2
}
