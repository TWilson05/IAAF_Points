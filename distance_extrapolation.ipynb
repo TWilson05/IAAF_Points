{
 "cells": [
  {
   "cell_type": "code",
   "execution_count": 1,
   "id": "73b377fd",
   "metadata": {},
   "outputs": [],
   "source": [
    "import json\n",
    "import numpy as np\n",
    "import scipy.interpolate as spi\n",
    "\n",
    "event_info = json.load(open(\"2025_fit_params.json\", \"r\"))"
   ]
  },
  {
   "cell_type": "code",
   "execution_count": 20,
   "id": "9fe4aeaf",
   "metadata": {},
   "outputs": [],
   "source": [
    "splines = {'Men': [], 'Women': []}\n",
    "for gender in event_info.keys():\n",
    "    distance_list = []\n",
    "    fit_list = []\n",
    "    for event in event_info[gender].keys():\n",
    "        run_event = event_info[gender][event]['Category'] in {'Sprints', 'Middle Distance', 'Long Distance'}\n",
    "        outdoor = event_info[gender][event]['Surface'] == 'outdoor'\n",
    "        if run_event and outdoor:\n",
    "            distance_list.append(event_info[gender][event]['Distance'])\n",
    "            fit_list.append(event_info[gender][event]['Fits'])\n",
    "    fits = np.array(fit_list)\n",
    "    for i in range(fits.shape[1]):\n",
    "        splines[gender].append(spi.CubicSpline(distance_list, fits[:,i]))"
   ]
  },
  {
   "cell_type": "code",
   "execution_count": 21,
   "id": "0112e00e",
   "metadata": {},
   "outputs": [
    {
     "data": {
      "text/plain": [
       "[0.008150049932737524, -839.9938439225789, 0.5015204438013825]"
      ]
     },
     "execution_count": 21,
     "metadata": {},
     "output_type": "execute_result"
    }
   ],
   "source": [
    "# demonstrate how to compute the fit params for a given distance\n",
    "\n",
    "dist = 3\n",
    "gender = 'Men'\n",
    "fits = [float(splines[gender][i](dist)) for i in range(len(splines[gender]))]\n",
    "fits"
   ]
  },
  {
   "cell_type": "code",
   "execution_count": 22,
   "id": "9937a55b",
   "metadata": {},
   "outputs": [
    {
     "data": {
      "text/plain": [
       "469.9203141559291"
      ]
     },
     "execution_count": 22,
     "metadata": {},
     "output_type": "execute_result"
    }
   ],
   "source": [
    "time = 600\n",
    "fits[0] * (time + fits[1])**2 + fits[2]"
   ]
  },
  {
   "cell_type": "code",
   "execution_count": 36,
   "id": "edd83b65",
   "metadata": {},
   "outputs": [
    {
     "data": {
      "image/png": "[encoded data removed]",
      "text/plain": [
       "<Figure size 640x480 with 1 Axes>"
      ]
     },
     "metadata": {},
     "output_type": "display_data"
    },
    {
     "data": {
      "text/plain": [
       "469.9203141559291"
      ]
     },
     "execution_count": 36,
     "metadata": {},
     "output_type": "execute_result"
    }
   ],
   "source": [
    "import matplotlib.pyplot as plt\n",
    "\n",
    "splines = {'Men': [], 'Women': []}\n",
    "for gender in event_info.keys():\n",
    "    distance_list = []\n",
    "    fit_list = []\n",
    "    for event in event_info[gender].keys():\n",
    "        run_event = event_info[gender][event]['Category'] in {'Sprints', 'Middle Distance', 'Long Distance'}\n",
    "        outdoor = event_info[gender][event]['Surface'] == 'outdoor'\n",
    "        if run_event and outdoor:\n",
    "            distance_list.append(event_info[gender][event]['Distance'])\n",
    "            fit_list.append(event_info[gender][event]['Fits'])\n",
    "    fits = np.array(fit_list)\n",
    "    for i in range(fits.shape[1]):\n",
    "        splines[gender].append(spi.CubicSpline(distance_list, fits[:,i]))\n",
    "\n",
    "plt.plot(distance_list, fits[:,2])\n",
    "plt.show()\n",
    "\n",
    "gender = 'Men'\n",
    "fits = [float(splines[gender][i](dist)) for i in range(len(splines[gender]))]\n",
    "time = 600\n",
    "fits[0] * (time + fits[1])**2 + fits[2]"
   ]
  },
  {
   "cell_type": "code",
   "execution_count": 5,
   "id": "3de3cd1c",
   "metadata": {},
   "outputs": [
    {
     "ename": "NameError",
     "evalue": "name 'restructured_points_table' is not defined",
     "output_type": "error",
     "traceback": [
      "\u001b[1;31m---------------------------------------------------------------------------\u001b[0m",
      "\u001b[1;31mNameError\u001b[0m                                 Traceback (most recent call last)",
      "Cell \u001b[1;32mIn [5], line 13\u001b[0m\n\u001b[0;32m     11\u001b[0m distance_data \u001b[38;5;241m=\u001b[39m []\n\u001b[0;32m     12\u001b[0m time_data \u001b[38;5;241m=\u001b[39m []\n\u001b[1;32m---> 13\u001b[0m \u001b[38;5;28;01mfor\u001b[39;00m event \u001b[38;5;129;01min\u001b[39;00m \u001b[43mrestructured_points_table\u001b[49m[gender][surface]\u001b[38;5;241m.\u001b[39mkeys():\n\u001b[0;32m     14\u001b[0m     \u001b[38;5;28;01mif\u001b[39;00m \u001b[38;5;129;01mnot\u001b[39;00m np\u001b[38;5;241m.\u001b[39misnan(restructured_points_table[gender][surface][event][\u001b[38;5;124m'\u001b[39m\u001b[38;5;124mData\u001b[39m\u001b[38;5;124m'\u001b[39m][point]):\n\u001b[0;32m     15\u001b[0m         distance_data\u001b[38;5;241m.\u001b[39mappend(restructured_points_table[gender][surface][event][\u001b[38;5;124m'\u001b[39m\u001b[38;5;124mDistance\u001b[39m\u001b[38;5;124m'\u001b[39m])\n",
      "\u001b[1;31mNameError\u001b[0m: name 'restructured_points_table' is not defined"
     ]
    }
   ],
   "source": [
    "# Testing how well it works\n",
    "import scipy.interpolate as spi\n",
    "\n",
    "gender = 'Women'\n",
    "surface = 'Track'\n",
    "distance = 3.8\n",
    "time = '19:45.6'\n",
    "\n",
    "interp_points = []\n",
    "for point in range(1400):\n",
    "    distance_data = []\n",
    "    time_data = []\n",
    "    for event in restructured_points_table[gender][surface].keys():\n",
    "        if not np.isnan(restructured_points_table[gender][surface][event]['Data'][point]):\n",
    "            distance_data.append(restructured_points_table[gender][surface][event]['Distance'])\n",
    "            time_data.append(restructured_points_table[gender][surface][event]['Data'][point])\n",
    "    cs_fit = spi.CubicSpline(distance_data, time_data)\n",
    "    interp_points.append(cs_fit(distance))\n",
    "quad_fit = np.polyfit(interp_points, range(1,1401)[::-1], 2)\n",
    "seconds = time_to_secs(time)\n",
    "score = np.polyval(quad_fit, seconds)\n",
    "print(int(score))"
   ]
  }
 ],
 "metadata": {
  "kernelspec": {
   "display_name": "Python 3",
   "language": "python",
   "name": "python3"
  },
  "language_info": {
   "codemirror_mode": {
    "name": "ipython",
    "version": 3
   },
   "file_extension": ".py",
   "mimetype": "text/x-python",
   "name": "python",
   "nbconvert_exporter": "python",
   "pygments_lexer": "ipython3",
   "version": "3.10.11"
  }
 },
 "nbformat": 4,
 "nbformat_minor": 5
}
