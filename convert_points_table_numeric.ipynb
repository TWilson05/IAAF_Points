{
 "cells": [
  {
   "cell_type": "code",
   "execution_count": null,
   "id": "d8f0d6dc",
   "metadata": {},
   "outputs": [],
   "source": [
    "import json\n",
    "import numpy as np\n",
    "\n",
    "points_table = json.load(open(\"2025_points_table.json\", \"r\"))\n",
    "\n",
    "def time_to_seconds(time_str):\n",
    "    parts = time_str.split(':')\n",
    "    seconds = float(parts[-1])\n",
    "    for i, part in enumerate(reversed(parts[:-1])):\n",
    "        seconds += int(part) * 60 ** (i+1)\n",
    "    return seconds\n",
    "\n",
    "def convert_numeric(time_list):\n",
    "    times = np.array([time_to_seconds(t) if t != \"-\" else np.nan for t in time_list])\n",
    "    times = np.append(times, np.inf)\n",
    "    for i in range(len(times) - 1):\n",
    "        if np.isnan(times[i]):\n",
    "            for j in range(i+1, len(times)):\n",
    "                if not np.isnan(times[j]):\n",
    "                    times[i] = times[j]\n",
    "                    break\n",
    "    times = times[~np.isinf(times)]\n",
    "    return times.tolist()\n",
    "\n",
    "lookup_table = {\"Men\": {},\n",
    "                \"Women\": {}}\n",
    "\n",
    "for gender in lookup_table.keys():\n",
    "    for event in points_table[gender].keys():\n",
    "        times = convert_numeric(np.array(points_table[gender][event]))\n",
    "        lookup_table[gender][event] = times\n",
    "\n",
    "# save the fit parameters to a JSON file\n",
    "with open(\"2025_lookup_table.json\", \"w\") as f:\n",
    "    json.dump(lookup_table, f, indent=4)\n"
   ]
  }
 ],
 "metadata": {
  "kernelspec": {
   "display_name": "Python 3",
   "language": "python",
   "name": "python3"
  },
  "language_info": {
   "codemirror_mode": {
    "name": "ipython",
    "version": 3
   },
   "file_extension": ".py",
   "mimetype": "text/x-python",
   "name": "python",
   "nbconvert_exporter": "python",
   "pygments_lexer": "ipython3",
   "version": "3.10.11"
  }
 },
 "nbformat": 4,
 "nbformat_minor": 5
}
